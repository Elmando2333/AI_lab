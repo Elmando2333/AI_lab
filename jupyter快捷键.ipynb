{
 "cells": [
  {
   "cell_type": "markdown",
   "id": "1dd94281-8aca-4463-ab7e-2265bc418bab",
   "metadata": {},
   "source": [
    "Jupyter Notebook 是一种广泛使用的数据科学和机器学习的工具，它提供了许多快捷键，可以帮助你更高效地工作。以下是一些常用的 Jupyter Notebook 快捷键：\r\n",
    "\r\n",
    "### 模式切换\r\n",
    "Jupyter Notebook 有两种主要模式：命令模式和编辑模式。\r\n",
    "- **命令模式**：按 `Esc` 进入命令模式，在这种模式下，你可以执行命令。\r\n",
    "- **编辑模式**：按 `Enter` 进入编辑模式，在这种模式下，你可以编辑单元格内容。\r\n",
    "\r\n",
    "### 常用快捷键\r\n",
    "\r\n",
    "#### 命令模式快捷键（按 `Esc` 进入）\r\n",
    "\r\n",
    "- **进入编辑模式**：`Enter`\r\n",
    "- **在单元格之间上下移动**：`↑` 和 `↓`\r\n",
    "- **运行当前单元格并选择下一个单元格**：`Shift + Enter`\r\n",
    "- **运行当前单元格并插入一个新的空单元格**：`Alt + Enter`\r\n",
    "- **运行当前单元格并保持选择当前单元格**：`Ctrl + Enter`\r\n",
    "- **将当前单元格标记为代码单元格**：`Y`\r\n",
    "- **将当前单元格标记为Markdown单元格**：`M`\r\n",
    "- **插入新单元格**：\r\n",
    "  - 在上方插入：`A`\r\n",
    "  - 在下方插入：`B`\r\n",
    "- **删除选中的单元格**：`D, D`（按两次D键）\r\n",
    "- **剪切选中的单元格**：`X`\r\n",
    "- **复制选中的单元格**：`C`\r\n",
    "- **粘贴单元格**：`V`\r\n",
    "- **撤销删除单元格**：`Z`\r\n",
    "- **切换单元格输出的显示与隐藏**：`O`\r\n",
    "- **合并选中的单元格**：`Shift + M`\r\n",
    "- **保存并检查点**：`S`\r\n",
    "\r\n",
    "#### 编辑模式快捷键（按 `Enter` 进入）\r\n",
    "\r\n",
    "- **代码补全或提示**：`Tab`\r\n",
    "- **缩进代码**：`Ctrl + ]`\r\n",
    "- **取消缩进代码**：`Ctrl + [`\r\n",
    "- **选择全部**：`Ctrl + A`\r\n",
    "- **撤销**：`Ctrl + Z`\r\n",
    "- **重做**：`Ctrl + Shift + Z`\r\n",
    "- **运行当前单元格并进入命令模式**：`Ctrl + Enter`\r\n",
    "- **查找和替换**：`Ctrl + F`\r\n",
    "\r\n",
    "### 快捷键总结\r\n",
    "\r\n",
    "为了更方便地查阅和使用快捷键，你可以在 Jupyte操作，以熟悉和掌握这些快捷键。\r\n",
    "\r\n",
    "希望这些信息对你有所帮助！如果你有任何问题或需要进一步的解释，请随时告诉我。"
   ]
  },
  {
   "cell_type": "code",
   "execution_count": null,
   "id": "45a64bc1-f18a-4355-8872-07e5883de798",
   "metadata": {},
   "outputs": [],
   "source": []
  }
 ],
 "metadata": {
  "kernelspec": {
   "display_name": "Python 3 (ipykernel)",
   "language": "python",
   "name": "python3"
  },
  "language_info": {
   "codemirror_mode": {
    "name": "ipython",
    "version": 3
   },
   "file_extension": ".py",
   "mimetype": "text/x-python",
   "name": "python",
   "nbconvert_exporter": "python",
   "pygments_lexer": "ipython3",
   "version": "3.9.19"
  }
 },
 "nbformat": 4,
 "nbformat_minor": 5
}
