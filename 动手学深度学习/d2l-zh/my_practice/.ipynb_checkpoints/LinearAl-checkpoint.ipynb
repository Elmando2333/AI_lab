{
 "cells": [
  {
   "cell_type": "markdown",
   "id": "98279726-9ceb-4912-8123-cec1cea69d39",
   "metadata": {},
   "source": [
    "# 线性代数"
   ]
  },
  {
   "cell_type": "code",
   "execution_count": 1,
   "id": "7ee7e296-7eb6-4767-a2e6-9fe5f49bcc0b",
   "metadata": {},
   "outputs": [
    {
     "data": {
      "text/plain": [
       "(tensor(3.), tensor(2.), tensor(0.5000), tensor(1.))"
      ]
     },
     "execution_count": 1,
     "metadata": {},
     "output_type": "execute_result"
    }
   ],
   "source": [
    "import torch \n",
    "\n",
    "x=torch.tensor(1.0)\n",
    "y=torch.tensor(2.0)\n",
    "\n",
    "x+y,x*y,x/y,x**y"
   ]
  },
  {
   "cell_type": "markdown",
   "id": "2acd79f1-2f2c-41c3-a96b-5950bcc83c04",
   "metadata": {},
   "source": [
    "## 向量"
   ]
  },
  {
   "cell_type": "code",
   "execution_count": 3,
   "id": "dc240dd6-93d5-4443-b42c-924d810ac3c0",
   "metadata": {},
   "outputs": [
    {
     "data": {
      "text/plain": [
       "tensor([0, 1, 2, 3])"
      ]
     },
     "execution_count": 3,
     "metadata": {},
     "output_type": "execute_result"
    }
   ],
   "source": [
    "x=torch.arange(4)\n",
    "x"
   ]
  },
  {
   "cell_type": "code",
   "execution_count": 4,
   "id": "f92b6fca-757a-44a5-9665-b158130f1a17",
   "metadata": {},
   "outputs": [
    {
     "data": {
      "text/plain": [
       "tensor(3)"
      ]
     },
     "execution_count": 4,
     "metadata": {},
     "output_type": "execute_result"
    }
   ],
   "source": [
    "x[3]"
   ]
  },
  {
   "cell_type": "code",
   "execution_count": 5,
   "id": "69dfea1a-fb9c-4484-afed-288571f6d957",
   "metadata": {},
   "outputs": [
    {
     "data": {
      "text/plain": [
       "4"
      ]
     },
     "execution_count": 5,
     "metadata": {},
     "output_type": "execute_result"
    }
   ],
   "source": [
    "len(x)"
   ]
  },
  {
   "cell_type": "code",
   "execution_count": 6,
   "id": "99bddcfa-ee14-4834-9726-c88701c288c5",
   "metadata": {},
   "outputs": [
    {
     "data": {
      "text/plain": [
       "torch.Size([4])"
      ]
     },
     "execution_count": 6,
     "metadata": {},
     "output_type": "execute_result"
    }
   ],
   "source": [
    "x.shape"
   ]
  },
  {
   "cell_type": "code",
   "execution_count": 8,
   "id": "d41f9f57-6b3f-4ee0-a848-7071c71d9760",
   "metadata": {},
   "outputs": [
    {
     "data": {
      "text/plain": [
       "tensor([[0, 1],\n",
       "        [2, 3]])"
      ]
     },
     "execution_count": 8,
     "metadata": {},
     "output_type": "execute_result"
    }
   ],
   "source": [
    "x=x.reshape((2,2))\n",
    "x"
   ]
  },
  {
   "cell_type": "code",
   "execution_count": 9,
   "id": "fccd8a74-882f-41df-afff-56cd498e2b11",
   "metadata": {},
   "outputs": [
    {
     "data": {
      "text/plain": [
       "torch.Size([2, 2])"
      ]
     },
     "execution_count": 9,
     "metadata": {},
     "output_type": "execute_result"
    }
   ],
   "source": [
    "x.shape"
   ]
  },
  {
   "cell_type": "code",
   "execution_count": 10,
   "id": "d2072d03-3b8f-4b2a-86ef-3cd61c984537",
   "metadata": {},
   "outputs": [
    {
     "data": {
      "text/plain": [
       "2"
      ]
     },
     "execution_count": 10,
     "metadata": {},
     "output_type": "execute_result"
    }
   ],
   "source": [
    "len(x)"
   ]
  },
  {
   "cell_type": "markdown",
   "id": "343e175f-03d8-436b-90c1-e863047194fc",
   "metadata": {},
   "source": [
    "## 矩阵"
   ]
  },
  {
   "cell_type": "code",
   "execution_count": 12,
   "id": "11c64a10-4071-4c0e-9723-1b2554c9f4c6",
   "metadata": {},
   "outputs": [
    {
     "data": {
      "text/plain": [
       "tensor([[ 0,  1,  2,  3],\n",
       "        [ 4,  5,  6,  7],\n",
       "        [ 8,  9, 10, 11],\n",
       "        [12, 13, 14, 15],\n",
       "        [16, 17, 18, 19]])"
      ]
     },
     "execution_count": 12,
     "metadata": {},
     "output_type": "execute_result"
    }
   ],
   "source": [
    "A=torch.arange(20).reshape(5,4)\n",
    "A"
   ]
  },
  {
   "cell_type": "code",
   "execution_count": 13,
   "id": "644a04f1-f91c-49b7-a5ca-0e202e09be6d",
   "metadata": {},
   "outputs": [
    {
     "data": {
      "text/plain": [
       "tensor(0)"
      ]
     },
     "execution_count": 13,
     "metadata": {},
     "output_type": "execute_result"
    }
   ],
   "source": [
    "A[0][0]"
   ]
  },
  {
   "cell_type": "code",
   "execution_count": 14,
   "id": "6ae187c7-7c34-4b2b-96d0-cdd8ee55d754",
   "metadata": {},
   "outputs": [
    {
     "data": {
      "text/plain": [
       "tensor(6)"
      ]
     },
     "execution_count": 14,
     "metadata": {},
     "output_type": "execute_result"
    }
   ],
   "source": [
    "A[1][2]"
   ]
  },
  {
   "cell_type": "code",
   "execution_count": 15,
   "id": "d7d2fb4f-d477-4972-99f2-2c7f25edb60d",
   "metadata": {},
   "outputs": [
    {
     "data": {
      "text/plain": [
       "tensor([[ 0,  4,  8, 12, 16],\n",
       "        [ 1,  5,  9, 13, 17],\n",
       "        [ 2,  6, 10, 14, 18],\n",
       "        [ 3,  7, 11, 15, 19]])"
      ]
     },
     "execution_count": 15,
     "metadata": {},
     "output_type": "execute_result"
    }
   ],
   "source": [
    "A.T"
   ]
  },
  {
   "cell_type": "code",
   "execution_count": 16,
   "id": "ec4a6c8f-2996-45be-a5a9-72518f860418",
   "metadata": {},
   "outputs": [
    {
     "data": {
      "text/plain": [
       "tensor([[1, 2, 3],\n",
       "        [2, 0, 4],\n",
       "        [3, 4, 5]])"
      ]
     },
     "execution_count": 16,
     "metadata": {},
     "output_type": "execute_result"
    }
   ],
   "source": [
    "B=torch.tensor([[1,2,3],[2,0,4],[3,4,5]])\n",
    "B"
   ]
  },
  {
   "cell_type": "code",
   "execution_count": 19,
   "id": "759f5520-02e2-446c-acf5-ee1fde4d1068",
   "metadata": {},
   "outputs": [
    {
     "data": {
      "text/plain": [
       "tensor([[True, True, True],\n",
       "        [True, True, True],\n",
       "        [True, True, True]])"
      ]
     },
     "execution_count": 19,
     "metadata": {},
     "output_type": "execute_result"
    }
   ],
   "source": [
    "B==B.T #看是否是转置矩阵"
   ]
  },
  {
   "cell_type": "markdown",
   "id": "f3bb0b79-ade1-4191-99ef-fbbdaf5ae819",
   "metadata": {},
   "source": [
    "## 张量"
   ]
  },
  {
   "cell_type": "code",
   "execution_count": 20,
   "id": "3212dc55-1526-49d8-837a-84668541f7d8",
   "metadata": {},
   "outputs": [
    {
     "data": {
      "text/plain": [
       "tensor([[[ 0,  1,  2,  3],\n",
       "         [ 4,  5,  6,  7],\n",
       "         [ 8,  9, 10, 11]],\n",
       "\n",
       "        [[12, 13, 14, 15],\n",
       "         [16, 17, 18, 19],\n",
       "         [20, 21, 22, 23]]])"
      ]
     },
     "execution_count": 20,
     "metadata": {},
     "output_type": "execute_result"
    }
   ],
   "source": [
    "X=torch.arange(24).reshape(2,3,4)\n",
    "X"
   ]
  },
  {
   "cell_type": "code",
   "execution_count": 21,
   "id": "952a55df-7603-4e6f-a990-ebc7e17c6650",
   "metadata": {},
   "outputs": [
    {
     "data": {
      "text/plain": [
       "(tensor([[ 0.,  1.,  2.,  3.],\n",
       "         [ 4.,  5.,  6.,  7.],\n",
       "         [ 8.,  9., 10., 11.],\n",
       "         [12., 13., 14., 15.],\n",
       "         [16., 17., 18., 19.]]),\n",
       " tensor([[ 0.,  2.,  4.,  6.],\n",
       "         [ 8., 10., 12., 14.],\n",
       "         [16., 18., 20., 22.],\n",
       "         [24., 26., 28., 30.],\n",
       "         [32., 34., 36., 38.]]))"
      ]
     },
     "execution_count": 21,
     "metadata": {},
     "output_type": "execute_result"
    }
   ],
   "source": [
    "A=torch.arange(20,dtype=torch.float32).reshape(5,4)\n",
    "B=A.clone()\n",
    "A,A+B"
   ]
  },
  {
   "cell_type": "code",
   "execution_count": 22,
   "id": "2d86f289-7fd6-4ec1-987f-1722d5a3b321",
   "metadata": {},
   "outputs": [
    {
     "data": {
      "text/plain": [
       "tensor([[  0.,   1.,   4.,   9.],\n",
       "        [ 16.,  25.,  36.,  49.],\n",
       "        [ 64.,  81., 100., 121.],\n",
       "        [144., 169., 196., 225.],\n",
       "        [256., 289., 324., 361.]])"
      ]
     },
     "execution_count": 22,
     "metadata": {},
     "output_type": "execute_result"
    }
   ],
   "source": [
    "A*B"
   ]
  },
  {
   "cell_type": "code",
   "execution_count": 23,
   "id": "f982ab3f-7c0f-4df2-b80f-d21722811444",
   "metadata": {},
   "outputs": [
    {
     "data": {
      "text/plain": [
       "(tensor([[[ 2,  3,  4,  5],\n",
       "          [ 6,  7,  8,  9],\n",
       "          [10, 11, 12, 13]],\n",
       " \n",
       "         [[14, 15, 16, 17],\n",
       "          [18, 19, 20, 21],\n",
       "          [22, 23, 24, 25]]]),\n",
       " torch.Size([2, 3, 4]))"
      ]
     },
     "execution_count": 23,
     "metadata": {},
     "output_type": "execute_result"
    }
   ],
   "source": [
    "a=2\n",
    "X=torch.arange(24).reshape(2,3,4)\n",
    "a+X,(a*X).shape"
   ]
  },
  {
   "cell_type": "code",
   "execution_count": 24,
   "id": "b090a600-4005-4bb5-bfca-2d5c98d1ea77",
   "metadata": {},
   "outputs": [
    {
     "data": {
      "text/plain": [
       "tensor(276)"
      ]
     },
     "execution_count": 24,
     "metadata": {},
     "output_type": "execute_result"
    }
   ],
   "source": [
    "X.sum()"
   ]
  },
  {
   "cell_type": "code",
   "execution_count": 25,
   "id": "a64532d6-c6b9-442b-bc05-c65378b681d8",
   "metadata": {},
   "outputs": [
    {
     "data": {
      "text/plain": [
       "tensor([[[ 0,  1,  2,  3],\n",
       "         [ 4,  5,  6,  7],\n",
       "         [ 8,  9, 10, 11]],\n",
       "\n",
       "        [[12, 13, 14, 15],\n",
       "         [16, 17, 18, 19],\n",
       "         [20, 21, 22, 23]]])"
      ]
     },
     "execution_count": 25,
     "metadata": {},
     "output_type": "execute_result"
    }
   ],
   "source": [
    "X"
   ]
  },
  {
   "cell_type": "code",
   "execution_count": 26,
   "id": "8158ff05-7d3a-4f50-b92e-f11260c34c0b",
   "metadata": {},
   "outputs": [
    {
     "data": {
      "text/plain": [
       "(tensor([40., 45., 50., 55.]), torch.Size([4]))"
      ]
     },
     "execution_count": 26,
     "metadata": {},
     "output_type": "execute_result"
    }
   ],
   "source": [
    "A_sum_axis0=A.sum(axis=0)\n",
    "A_sum_axis0,A_sum_axis0.shape"
   ]
  },
  {
   "cell_type": "code",
   "execution_count": 27,
   "id": "4451348c-4d92-4450-8459-3fc82e18386a",
   "metadata": {},
   "outputs": [
    {
     "data": {
      "text/plain": [
       "tensor(190.)"
      ]
     },
     "execution_count": 27,
     "metadata": {},
     "output_type": "execute_result"
    }
   ],
   "source": [
    "A.sum(axis=[0,1])"
   ]
  },
  {
   "cell_type": "code",
   "execution_count": 28,
   "id": "1230076c-7817-4ed7-847f-c53ef264c97f",
   "metadata": {},
   "outputs": [
    {
     "data": {
      "text/plain": [
       "(tensor(9.5000), tensor(9.5000))"
      ]
     },
     "execution_count": 28,
     "metadata": {},
     "output_type": "execute_result"
    }
   ],
   "source": [
    "A.mean(),A.sum()/A.numel()"
   ]
  },
  {
   "cell_type": "code",
   "execution_count": 29,
   "id": "7243ae12-049c-49df-a3af-f5cc2d32bb47",
   "metadata": {},
   "outputs": [
    {
     "data": {
      "text/plain": [
       "tensor([[ 0.,  1.,  2.,  3.],\n",
       "        [ 4.,  5.,  6.,  7.],\n",
       "        [ 8.,  9., 10., 11.],\n",
       "        [12., 13., 14., 15.],\n",
       "        [16., 17., 18., 19.]])"
      ]
     },
     "execution_count": 29,
     "metadata": {},
     "output_type": "execute_result"
    }
   ],
   "source": [
    "A"
   ]
  },
  {
   "cell_type": "code",
   "execution_count": 30,
   "id": "022c3255-d146-4f4c-9bed-9af602958b1d",
   "metadata": {},
   "outputs": [
    {
     "data": {
      "text/plain": [
       "(tensor([ 8.,  9., 10., 11.]), tensor([ 8.,  9., 10., 11.]))"
      ]
     },
     "execution_count": 30,
     "metadata": {},
     "output_type": "execute_result"
    }
   ],
   "source": [
    "A.mean(axis=0),A.sum(axis=0)/A.shape[0]"
   ]
  },
  {
   "cell_type": "code",
   "execution_count": 31,
   "id": "943ee1ea-a725-436d-8c2d-e223b7a3ac13",
   "metadata": {},
   "outputs": [
    {
     "data": {
      "text/plain": [
       "(tensor([ 1.5000,  5.5000,  9.5000, 13.5000, 17.5000]),\n",
       " tensor([ 1.5000,  5.5000,  9.5000, 13.5000, 17.5000]))"
      ]
     },
     "execution_count": 31,
     "metadata": {},
     "output_type": "execute_result"
    }
   ],
   "source": [
    "A.mean(axis=1),A.sum(axis=1)/A.shape[1]"
   ]
  },
  {
   "cell_type": "code",
   "execution_count": 32,
   "id": "8c47d8e2-350b-4fc9-bd57-e9fde2e998b8",
   "metadata": {},
   "outputs": [
    {
     "data": {
      "text/plain": [
       "tensor([[ 6.],\n",
       "        [22.],\n",
       "        [38.],\n",
       "        [54.],\n",
       "        [70.]])"
      ]
     },
     "execution_count": 32,
     "metadata": {},
     "output_type": "execute_result"
    }
   ],
   "source": [
    "sum_A=A.sum(axis=1,keepdims=True)\n",
    "sum_A"
   ]
  },
  {
   "cell_type": "code",
   "execution_count": 33,
   "id": "32a65b74-c5a5-4072-80c7-68b1ecd16249",
   "metadata": {},
   "outputs": [
    {
     "data": {
      "text/plain": [
       "tensor([[0.0000, 0.1667, 0.3333, 0.5000],\n",
       "        [0.1818, 0.2273, 0.2727, 0.3182],\n",
       "        [0.2105, 0.2368, 0.2632, 0.2895],\n",
       "        [0.2222, 0.2407, 0.2593, 0.2778],\n",
       "        [0.2286, 0.2429, 0.2571, 0.2714]])"
      ]
     },
     "execution_count": 33,
     "metadata": {},
     "output_type": "execute_result"
    }
   ],
   "source": [
    "A/sum_A"
   ]
  },
  {
   "cell_type": "code",
   "execution_count": 34,
   "id": "6ad52023-ad1e-4d05-ba06-610ce1058f90",
   "metadata": {},
   "outputs": [
    {
     "data": {
      "text/plain": [
       "tensor([[ 0.,  1.,  2.,  3.],\n",
       "        [ 4.,  6.,  8., 10.],\n",
       "        [12., 15., 18., 21.],\n",
       "        [24., 28., 32., 36.],\n",
       "        [40., 45., 50., 55.]])"
      ]
     },
     "execution_count": 34,
     "metadata": {},
     "output_type": "execute_result"
    }
   ],
   "source": [
    "A.cumsum(axis=0)"
   ]
  },
  {
   "cell_type": "markdown",
   "id": "99fdafcb-a486-47dc-ad5f-53391fc1aca9",
   "metadata": {},
   "source": [
    "## 点积"
   ]
  },
  {
   "cell_type": "code",
   "execution_count": 45,
   "id": "0867d6ab-6b35-4500-814c-fe99d2ae5f15",
   "metadata": {},
   "outputs": [
    {
     "data": {
      "text/plain": [
       "(tensor([0., 1., 2., 3.]), tensor([1., 1., 1., 1.]), tensor(6.))"
      ]
     },
     "execution_count": 45,
     "metadata": {},
     "output_type": "execute_result"
    }
   ],
   "source": [
    "y=torch.ones(4,dtype=torch.float32)\n",
    "x=x.reshape(-1)\n",
    "x=x.float()\n",
    "x,y,torch.dot(x,y)"
   ]
  },
  {
   "cell_type": "code",
   "execution_count": 46,
   "id": "25c07764-c040-4740-b053-e8abe9f162d2",
   "metadata": {},
   "outputs": [
    {
     "data": {
      "text/plain": [
       "tensor(6.)"
      ]
     },
     "execution_count": 46,
     "metadata": {},
     "output_type": "execute_result"
    }
   ],
   "source": [
    "torch.sum(x*y)"
   ]
  },
  {
   "cell_type": "markdown",
   "id": "4f186765-d56b-4dce-9ed9-4284391d38bb",
   "metadata": {},
   "source": [
    "## 矩阵，向量积"
   ]
  },
  {
   "cell_type": "code",
   "execution_count": 47,
   "id": "37cc39fa-5b15-4131-8ba2-c6fb90584b87",
   "metadata": {},
   "outputs": [
    {
     "data": {
      "text/plain": [
       "(tensor([[ 0.,  1.,  2.,  3.],\n",
       "         [ 4.,  5.,  6.,  7.],\n",
       "         [ 8.,  9., 10., 11.],\n",
       "         [12., 13., 14., 15.],\n",
       "         [16., 17., 18., 19.]]),\n",
       " tensor([0., 1., 2., 3.]))"
      ]
     },
     "execution_count": 47,
     "metadata": {},
     "output_type": "execute_result"
    }
   ],
   "source": [
    "A,x"
   ]
  },
  {
   "cell_type": "code",
   "execution_count": 48,
   "id": "c8f0d5f6-958a-4e6d-98dc-a00c77f461cd",
   "metadata": {},
   "outputs": [
    {
     "data": {
      "text/plain": [
       "(torch.Size([5, 4]), torch.Size([4]))"
      ]
     },
     "execution_count": 48,
     "metadata": {},
     "output_type": "execute_result"
    }
   ],
   "source": [
    "A.shape,x.shape"
   ]
  },
  {
   "cell_type": "code",
   "execution_count": 49,
   "id": "77a80e63-d8da-419b-b01c-4403bc223b5f",
   "metadata": {},
   "outputs": [
    {
     "data": {
      "text/plain": [
       "tensor([ 14.,  38.,  62.,  86., 110.])"
      ]
     },
     "execution_count": 49,
     "metadata": {},
     "output_type": "execute_result"
    }
   ],
   "source": [
    "torch.mv(A,x)"
   ]
  },
  {
   "cell_type": "code",
   "execution_count": 50,
   "id": "f3f5c725-a5fc-4e09-8f6b-2a1c17be6d7b",
   "metadata": {},
   "outputs": [
    {
     "data": {
      "text/plain": [
       "(tensor([[ 0.,  1.,  2.,  3.],\n",
       "         [ 4.,  5.,  6.,  7.],\n",
       "         [ 8.,  9., 10., 11.],\n",
       "         [12., 13., 14., 15.],\n",
       "         [16., 17., 18., 19.]]),\n",
       " tensor([[1., 1., 1.],\n",
       "         [1., 1., 1.],\n",
       "         [1., 1., 1.],\n",
       "         [1., 1., 1.]]),\n",
       " tensor([[ 6.,  6.,  6.],\n",
       "         [22., 22., 22.],\n",
       "         [38., 38., 38.],\n",
       "         [54., 54., 54.],\n",
       "         [70., 70., 70.]]))"
      ]
     },
     "execution_count": 50,
     "metadata": {},
     "output_type": "execute_result"
    }
   ],
   "source": [
    "B=torch.ones(4,3)\n",
    "A,B,torch.mm(A,B)"
   ]
  },
  {
   "cell_type": "markdown",
   "id": "4310bbe2-947e-480c-b701-d21b67090974",
   "metadata": {},
   "source": [
    "## 范数"
   ]
  },
  {
   "cell_type": "code",
   "execution_count": 51,
   "id": "071da1ce-e339-4c47-8f97-2ec967a2e980",
   "metadata": {},
   "outputs": [
    {
     "data": {
      "text/plain": [
       "tensor(5.)"
      ]
     },
     "execution_count": 51,
     "metadata": {},
     "output_type": "execute_result"
    }
   ],
   "source": [
    "u=torch.tensor([3.0,-4.0])\n",
    "torch.norm(u)"
   ]
  },
  {
   "cell_type": "code",
   "execution_count": 52,
   "id": "ebeec0af-cf0b-414e-b296-860d8a0bc9e0",
   "metadata": {},
   "outputs": [
    {
     "data": {
      "text/plain": [
       "tensor(7.)"
      ]
     },
     "execution_count": 52,
     "metadata": {},
     "output_type": "execute_result"
    }
   ],
   "source": [
    "torch.abs(u).sum()"
   ]
  },
  {
   "cell_type": "code",
   "execution_count": 53,
   "id": "3b1885d0-c703-44bf-8731-8d9849bc5955",
   "metadata": {},
   "outputs": [
    {
     "data": {
      "text/plain": [
       "tensor(6.)"
      ]
     },
     "execution_count": 53,
     "metadata": {},
     "output_type": "execute_result"
    }
   ],
   "source": [
    "torch.norm(torch.ones((4,9)))"
   ]
  },
  {
   "cell_type": "markdown",
   "id": "217db92c-cd61-4ab7-86ac-57ead75ed256",
   "metadata": {},
   "source": [
    "范数（Norm）是一个函数，它将一个向量映射到一个非负实数，表示向量的“大小”或“长度”。在机器学习、数值分析和向量空间中，范数是非常重要的概念。不同的范数定义方式可以强调向量的不同特性。下面介绍一些常见的范数及其应用。\r\n",
    "\r\n",
    "### 常见的范数\r\n",
    "\r\n",
    "1. **L1范数（曼哈顿范数或绝对值范数）**\r\n",
    "   - 定义：一个向量的所有元素的绝对值之和。\r\n",
    "   - 数学表达：对于向量 \\( \\mathbf{x} = [x_1, x_2, \\ldots, x_n] \\)，L1范数为 \\( \\|\\mathbf{x}\\|_1 = \\sum_{i=1}^n |x_i| \\)。\r\n",
    "   - 应用：在稀疏编码和LASSO回归中使用较多，倾向于产生稀疏解。\r\n",
    "\r\n",
    "2. **L2范数（欧几里得范数）**\r\n",
    "   - 定义：一个向量的所有元素的平方和的平方根。\r\n",
    "   - 数学表达：对于向量 \\( \\mathbf{x} = [x_1, x_2, \\ldots, x_n] \\)，L2范数为 \\( \\|\\mathbf{x}\\|_2 = \\sqrt{\\sum_{i=1}^n x_i^2} \\)。\r\n",
    "   - 应用：在许多机器学习算法中广泛使用，如线性回归、神经网络等。它衡量向量的长度或距离。\r\n",
    "\r\n",
    "3. **无穷范数（最大范数）**\r\n",
    "   - 定义：向量中具有最大绝对值的元素。\r\n",
    "   - 数学表达：对于向量 \\( \\mathbf{x} = [x_1, x_2, \\ldots, x_n] \\)，无穷范数为 \\( \\|\\mathbf{x}\\|_\\infty = \\max_i |x_i| \\)。\r\n",
    "   - 应用：在优化和稳定性分析中使用，尤其在确定最大的单个误差或变化时。\r\n",
    "\r\n",
    "### PyTorch中的范数计算\r\n",
    "\r\n",
    "在 PyTorch 中，你可以使用 `torch.norm` 函数来计算不同类型的范数。下面是一些例子：\r\n",
    "\r\n",
    "```python\r\n",
    "import torch\r\n",
    "\r\n",
    "# 创建一个示例张量\r\n",
    "x = torch.tensor([1.0, -2.0, 3.0, -4.0])\r\n",
    "\r\n",
    "# 计算 L1 范数\r\n",
    "l1_norm = torch.norm(x, p=1)\r\n",
    "print(\"L1 范数:\", l1_norm)\r\n",
    "\r\n",
    "# 计算 L2 范数\r\n",
    "l2_norm = torch.norm(x, p=2)\r\n",
    "print(\"L2 范数:\", l2_norm)\r\n",
    "\r\n",
    "# 计算无穷范数\r\n",
    "inf_norm = torch.norm(x, p=float('inf'))\r\n",
    "print(\"无穷范数:\", inf_norm)\r\n",
    "```\r\n",
    "\r\n",
    "输出结果：\r\n",
    "\r\n",
    "```\r\n",
    "L1 范数: 10.0\r\n",
    "L2 范数: 5.477225575051661\r\n",
    "无穷范数: 4.0\r\n",
    "```\r\n",
    "\r\n",
    "### 范数的应用\r\n",
    "\r\n",
    "1. **数据预处理**：在机器学习中，常常需要对数据进行标准化或归一化处理，以便不同特征具有相同的尺度。L2 范数通常用于标准化。\r\n",
    "2. **损失函数**：在优化问题中，L1 和 L2 范数常用于构造正则化项，以防止模型过拟合。\r\n",
    "3. **距离度量**：在聚类和最近邻算法中，L2 范数用于计算欧几里得距离，而 L1 范数用于计算曼哈顿距离。\r\n",
    "\r\n",
    "### 总结\r\n",
    "\r\n",
    "范数是衡量向量长度或大小的重要工具，根据具体问题的需求可以选择不同的范数类型。在 PyTorch 中，使用 `torch.norm` 函数可以方便地计算不同类型的范数。理解和应用范数对于数据处理、模型训练和优化问题的解决都有重要意义。\r\n",
    "\r\n",
    "如果你有任何其他问题或需要进一步的解释，请随时告诉我！"
   ]
  },
  {
   "cell_type": "code",
   "execution_count": 54,
   "id": "7e61e8b6-d64f-4912-a012-2f8130a9569b",
   "metadata": {},
   "outputs": [
    {
     "data": {
      "text/plain": [
       "2"
      ]
     },
     "execution_count": 54,
     "metadata": {},
     "output_type": "execute_result"
    }
   ],
   "source": [
    "len(X)"
   ]
  },
  {
   "cell_type": "code",
   "execution_count": 55,
   "id": "5f35fba6-ed44-4fac-967b-2d9ddf19916b",
   "metadata": {},
   "outputs": [
    {
     "data": {
      "text/plain": [
       "3"
      ]
     },
     "execution_count": 55,
     "metadata": {},
     "output_type": "execute_result"
    }
   ],
   "source": [
    "len(X[0])"
   ]
  },
  {
   "cell_type": "code",
   "execution_count": 56,
   "id": "38fe87ba-69c5-4b63-aa3d-7eed62b986b5",
   "metadata": {},
   "outputs": [
    {
     "data": {
      "text/plain": [
       "4"
      ]
     },
     "execution_count": 56,
     "metadata": {},
     "output_type": "execute_result"
    }
   ],
   "source": [
    "len(X[0][0])"
   ]
  },
  {
   "cell_type": "code",
   "execution_count": 57,
   "id": "3acdf890-68ed-4d89-a2f6-bf7eff639630",
   "metadata": {},
   "outputs": [
    {
     "data": {
      "text/plain": [
       "tensor([[ 0.,  1.,  2.,  3.],\n",
       "        [ 4.,  5.,  6.,  7.],\n",
       "        [ 8.,  9., 10., 11.],\n",
       "        [12., 13., 14., 15.],\n",
       "        [16., 17., 18., 19.]])"
      ]
     },
     "execution_count": 57,
     "metadata": {},
     "output_type": "execute_result"
    }
   ],
   "source": [
    "A"
   ]
  },
  {
   "cell_type": "code",
   "execution_count": 59,
   "id": "312766ab-f11f-4dc5-95a7-49f094f19228",
   "metadata": {},
   "outputs": [
    {
     "data": {
      "text/plain": [
       "tensor([[0.0000, 0.1667, 0.3333, 0.5000],\n",
       "        [0.1818, 0.2273, 0.2727, 0.3182],\n",
       "        [0.2105, 0.2368, 0.2632, 0.2895],\n",
       "        [0.2222, 0.2407, 0.2593, 0.2778],\n",
       "        [0.2286, 0.2429, 0.2571, 0.2714]])"
      ]
     },
     "execution_count": 59,
     "metadata": {},
     "output_type": "execute_result"
    }
   ],
   "source": [
    "A/A.sum(axis=1,keepdims=True)"
   ]
  },
  {
   "cell_type": "code",
   "execution_count": 60,
   "id": "2f925768-55c7-4f8a-92e1-b488b0f58e36",
   "metadata": {},
   "outputs": [
    {
     "data": {
      "text/plain": [
       "tensor([[[ 0,  1,  2,  3],\n",
       "         [ 4,  5,  6,  7],\n",
       "         [ 8,  9, 10, 11]],\n",
       "\n",
       "        [[12, 13, 14, 15],\n",
       "         [16, 17, 18, 19],\n",
       "         [20, 21, 22, 23]]])"
      ]
     },
     "execution_count": 60,
     "metadata": {},
     "output_type": "execute_result"
    }
   ],
   "source": [
    "Z=torch.arange(24).reshape((2,3,4))\n",
    "Z"
   ]
  },
  {
   "cell_type": "code",
   "execution_count": 63,
   "id": "67d2e876-f290-4c5c-8b5e-633ef3b7fbde",
   "metadata": {},
   "outputs": [
    {
     "name": "stdout",
     "output_type": "stream",
     "text": [
      "torch.Size([3, 4])\n"
     ]
    }
   ],
   "source": [
    "sum_0=Z.sum(axis=0)\n",
    "print(sum_0.shape)"
   ]
  },
  {
   "cell_type": "code",
   "execution_count": 64,
   "id": "b891948c-99dc-4477-b255-cba681ee0a6a",
   "metadata": {},
   "outputs": [
    {
     "data": {
      "text/plain": [
       "tensor([[12, 14, 16, 18],\n",
       "        [20, 22, 24, 26],\n",
       "        [28, 30, 32, 34]])"
      ]
     },
     "execution_count": 64,
     "metadata": {},
     "output_type": "execute_result"
    }
   ],
   "source": [
    "sum_0"
   ]
  },
  {
   "cell_type": "code",
   "execution_count": 65,
   "id": "eb5f8ac1-9641-4e17-95d1-fb901e85acbc",
   "metadata": {},
   "outputs": [
    {
     "data": {
      "text/plain": [
       "tensor([[12, 15, 18, 21],\n",
       "        [48, 51, 54, 57]])"
      ]
     },
     "execution_count": 65,
     "metadata": {},
     "output_type": "execute_result"
    }
   ],
   "source": [
    "sum_1=Z.sum(axis=1)\n",
    "sum_1"
   ]
  },
  {
   "cell_type": "code",
   "execution_count": 66,
   "id": "852c5143-4029-4f6a-915f-0056b107164a",
   "metadata": {},
   "outputs": [
    {
     "data": {
      "text/plain": [
       "tensor([[ 6, 22, 38],\n",
       "        [54, 70, 86]])"
      ]
     },
     "execution_count": 66,
     "metadata": {},
     "output_type": "execute_result"
    }
   ],
   "source": [
    "sum_2=Z.sum(axis=2)\n",
    "sum_2"
   ]
  },
  {
   "cell_type": "code",
   "execution_count": 67,
   "id": "d20d0def-063c-4b86-9365-051f634d78c5",
   "metadata": {},
   "outputs": [
    {
     "data": {
      "text/plain": [
       "(torch.Size([3, 4]), torch.Size([2, 4]), torch.Size([2, 3]))"
      ]
     },
     "execution_count": 67,
     "metadata": {},
     "output_type": "execute_result"
    }
   ],
   "source": [
    "sum_0.shape,sum_1.shape,sum_2.shape"
   ]
  },
  {
   "cell_type": "code",
   "execution_count": null,
   "id": "e4d4087a-c03c-4d15-a867-7d0307df2283",
   "metadata": {},
   "outputs": [],
   "source": []
  }
 ],
 "metadata": {
  "kernelspec": {
   "display_name": "Python 3 (ipykernel)",
   "language": "python",
   "name": "python3"
  },
  "language_info": {
   "codemirror_mode": {
    "name": "ipython",
    "version": 3
   },
   "file_extension": ".py",
   "mimetype": "text/x-python",
   "name": "python",
   "nbconvert_exporter": "python",
   "pygments_lexer": "ipython3",
   "version": "3.9.19"
  }
 },
 "nbformat": 4,
 "nbformat_minor": 5
}
